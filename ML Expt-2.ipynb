{
 "cells": [
  {
   "cell_type": "code",
   "execution_count": 5,
   "id": "af738838-c0b5-402b-8db1-6d0382814b67",
   "metadata": {},
   "outputs": [
    {
     "data": {
      "text/html": [
       "<div>\n",
       "<style scoped>\n",
       "    .dataframe tbody tr th:only-of-type {\n",
       "        vertical-align: middle;\n",
       "    }\n",
       "\n",
       "    .dataframe tbody tr th {\n",
       "        vertical-align: top;\n",
       "    }\n",
       "\n",
       "    .dataframe thead th {\n",
       "        text-align: right;\n",
       "    }\n",
       "</style>\n",
       "<table border=\"1\" class=\"dataframe\">\n",
       "  <thead>\n",
       "    <tr style=\"text-align: right;\">\n",
       "      <th></th>\n",
       "      <th>cgpa</th>\n",
       "      <th>package</th>\n",
       "    </tr>\n",
       "  </thead>\n",
       "  <tbody>\n",
       "    <tr>\n",
       "      <th>0</th>\n",
       "      <td>6.89</td>\n",
       "      <td>3.26</td>\n",
       "    </tr>\n",
       "    <tr>\n",
       "      <th>1</th>\n",
       "      <td>5.12</td>\n",
       "      <td>1.98</td>\n",
       "    </tr>\n",
       "    <tr>\n",
       "      <th>2</th>\n",
       "      <td>7.82</td>\n",
       "      <td>3.25</td>\n",
       "    </tr>\n",
       "    <tr>\n",
       "      <th>3</th>\n",
       "      <td>7.42</td>\n",
       "      <td>3.67</td>\n",
       "    </tr>\n",
       "    <tr>\n",
       "      <th>4</th>\n",
       "      <td>6.94</td>\n",
       "      <td>3.57</td>\n",
       "    </tr>\n",
       "  </tbody>\n",
       "</table>\n",
       "</div>"
      ],
      "text/plain": [
       "   cgpa  package\n",
       "0  6.89     3.26\n",
       "1  5.12     1.98\n",
       "2  7.82     3.25\n",
       "3  7.42     3.67\n",
       "4  6.94     3.57"
      ]
     },
     "execution_count": 5,
     "metadata": {},
     "output_type": "execute_result"
    }
   ],
   "source": [
    "import matplotlib.pyplot as plt\n",
    "import pandas as pd\n",
    "import numpy as np\n",
    "import tkinter as tk\n",
    "from tkinter import ttk\n",
    "from matplotlib.backends.backend_tkagg import FigureCanvasTkAgg\n",
    "#reading placement dataset\n",
    "df = pd.read_csv('placement.csv')\n",
    "df.head()"
   ]
  },
  {
   "cell_type": "code",
   "execution_count": 7,
   "id": "41021287-a85e-45a8-89fc-a2941c057d3f",
   "metadata": {},
   "outputs": [
    {
     "data": {
      "text/plain": [
       "Text(0, 0.5, 'Package (in lpa)')"
      ]
     },
     "execution_count": 7,
     "metadata": {},
     "output_type": "execute_result"
    },
    {
     "data": {
      "image/png": "[encoded data removed]",
      "text/plain": [
       "<Figure size 640x480 with 1 Axes>"
      ]
     },
     "metadata": {},
     "output_type": "display_data"
    }
   ],
   "source": [
    "#creating plot\n",
    "plt.scatter(df['cgpa'], df['package'])\n",
    "plt.xlabel('CGPA')\n",
    "plt.ylabel('Package (in lpa)')"
   ]
  },
  {
   "cell_type": "code",
   "execution_count": 11,
   "id": "221b510e-9a5a-4a30-b7ea-6faf6f8a04ee",
   "metadata": {},
   "outputs": [
    {
     "name": "stdout",
     "output_type": "stream",
     "text": [
      "     cgpa\n",
      "0    6.89\n",
      "1    5.12\n",
      "2    7.82\n",
      "3    7.42\n",
      "4    6.94\n",
      "..    ...\n",
      "195  6.93\n",
      "196  5.89\n",
      "197  7.21\n",
      "198  7.63\n",
      "199  6.22\n",
      "\n",
      "[200 rows x 1 columns] 0      3.26\n",
      "1      1.98\n",
      "2      3.25\n",
      "3      3.67\n",
      "4      3.57\n",
      "       ... \n",
      "195    2.46\n",
      "196    2.57\n",
      "197    3.24\n",
      "198    3.96\n",
      "199    2.33\n",
      "Name: package, Length: 200, dtype: float64\n"
     ]
    }
   ],
   "source": [
    "X = df.iloc[:,0:1] # input Column all rows0-1\n",
    "y = df.iloc[:, -1] # output Column"
   ]
  },
  {
   "cell_type": "code",
   "execution_count": 13,
   "id": "1f58e110-17a6-4091-9b3c-ee4fbf255292",
   "metadata": {},
   "outputs": [],
   "source": [
    "#splitting training data and testing data\n",
    "from sklearn.model_selection import train_test_split\n",
    "X_train,X_test, y_train, y_test= train_test_split(X,y,test_size=0.2, random_state=2)"
   ]
  },
  {
   "cell_type": "code",
   "execution_count": 47,
   "id": "4bac0839-0c43-44d9-b342-0cc368835394",
   "metadata": {},
   "outputs": [
    {
     "data": {
      "text/plain": [
       "112    4.10\n",
       "29     3.49\n",
       "182    2.08\n",
       "199    2.33\n",
       "193    1.94\n",
       "85     1.48\n",
       "10     1.86\n",
       "54     3.09\n",
       "115    4.21\n",
       "35     2.87\n",
       "12     3.65\n",
       "92     4.00\n",
       "13     2.89\n",
       "126    2.60\n",
       "174    2.99\n",
       "2      3.25\n",
       "44     1.86\n",
       "3      3.67\n",
       "113    2.37\n",
       "14     3.42\n",
       "23     2.48\n",
       "25     3.65\n",
       "6      2.60\n",
       "134    2.83\n",
       "165    4.08\n",
       "173    2.56\n",
       "45     3.58\n",
       "65     3.81\n",
       "48     4.09\n",
       "122    2.01\n",
       "178    3.63\n",
       "64     2.92\n",
       "9      3.51\n",
       "57     1.94\n",
       "78     2.21\n",
       "71     3.34\n",
       "128    3.34\n",
       "176    3.23\n",
       "131    2.01\n",
       "53     2.61\n",
       "Name: package, dtype: float64"
      ]
     },
     "execution_count": 47,
     "metadata": {},
     "output_type": "execute_result"
    }
   ],
   "source": [
    "#training the model\n",
    "from sklearn.linear_model import LinearRegression\n",
    "lr= LinearRegression()\n",
    "lr.fit(X_train, y_train) # for training\n",
    "y_test"
   ]
  },
  {
   "cell_type": "code",
   "execution_count": 39,
   "id": "048855f4-fe91-4e26-a3bb-c3a188dde572",
   "metadata": {},
   "outputs": [
    {
     "name": "stderr",
     "output_type": "stream",
     "text": [
      "C:\\Users\\Lenovo\\anaconda3\\Lib\\site-packages\\sklearn\\base.py:493: UserWarning: X does not have valid feature names, but LinearRegression was fitted with feature names\n",
      "  warnings.warn(\n"
     ]
    },
    {
     "data": {
      "text/plain": [
       "array([1.6537286])"
      ]
     },
     "execution_count": 39,
     "metadata": {},
     "output_type": "execute_result"
    }
   ],
   "source": [
    "#making the prediction\n",
    "lr.predict(X_test.iloc[4].values.reshape(1,1))"
   ]
  },
  {
   "cell_type": "code",
   "execution_count": 56,
   "id": "42e10143-266c-4cec-aebf-4873616e8262",
   "metadata": {},
   "outputs": [
    {
     "data": {
      "text/plain": [
       "Text(0, 0.5, 'Package (in lpa)')"
      ]
     },
     "execution_count": 56,
     "metadata": {},
     "output_type": "execute_result"
    },
    {
     "data": {
      "image/png": "[encoded data removed]",
      "text/plain": [
       "<Figure size 640x480 with 1 Axes>"
      ]
     },
     "metadata": {},
     "output_type": "display_data"
    }
   ],
   "source": [
    "#again creating a plot to visualize linear regression line\n",
    "plot=plt.scatter(df['cgpa'], df['package'])\n",
    "plt.plot(X_train, lr.predict(X_train), color='red')\n",
    "plt.xlabel('CGPA')\n",
    "plt.ylabel('Package (in lpa)')"
   ]
  },
  {
   "cell_type": "code",
   "execution_count": 57,
   "id": "5f17ee83-a6b4-4977-a405-a744be170982",
   "metadata": {},
   "outputs": [
    {
     "data": {
      "text/plain": [
       "array([3.89111601])"
      ]
     },
     "execution_count": 57,
     "metadata": {},
     "output_type": "execute_result"
    }
   ],
   "source": [
    "m = lr.coef_ # slope\n",
    "c = lr.intercept_ # intercept\n",
    "# y = mx + b\n",
    "m* 8.58 + c"
   ]
  },
  {
   "cell_type": "code",
   "execution_count": 66,
   "id": "3541dd9d-2dc2-47a4-83d2-a7ac9e8600a8",
   "metadata": {},
   "outputs": [
    {
     "name": "stderr",
     "output_type": "stream",
     "text": [
      "C:\\Users\\Lenovo\\anaconda3\\Lib\\site-packages\\sklearn\\base.py:493: UserWarning: X does not have valid feature names, but LinearRegression was fitted with feature names\n",
      "  warnings.warn(\n"
     ]
    },
    {
     "data": {
      "image/png": "[encoded data removed]",
      "text/plain": [
       "<Figure size 724x424 with 1 Axes>"
      ]
     },
     "metadata": {},
     "output_type": "display_data"
    }
   ],
   "source": [
    "#GUI part\n",
    "def predict_package():\n",
    "    try:\n",
    "        cgpa = float(entry_cgpa.get()) # Get CGPA from the input field\n",
    "        predicted_package = lr.predict(np.array([[cgpa]])) [0] \n",
    "        #Predict the package\n",
    "        label_predicted.config(text=f'Predicted Package:{predicted_package:.2f} LPA') \n",
    "    except ValueError:\n",
    "        label_predicted.config(text=\"Invalid input. Pleaseenter a valid CGPA.\")\n",
    "#Setting GUI\n",
    "root = tk.Tk()\n",
    "root.title('Placement Package Predictor by Didar Abbas')\n",
    "root.geometry ('800x400')\n",
    "# Create a figure and axes for the plot\n",
    "fig, ax = plt.subplots()\n",
    "ax.scatter(df['cgpa'], df['package'])\n",
    "ax.plot(X_train, lr.predict(X_train), color='red')\n",
    "ax.set_xlabel('CGPA')\n",
    "ax.set_ylabel('Package (in lpa)')\n",
    "\n",
    "canvas = FigureCanvasTkAgg(fig, master=root)\n",
    "canvas.draw()\n",
    "canvas.get_tk_widget().pack(side=tk.LEFT,fill=tk.BOTH, expand=1) \n",
    "frame_right =tk.Frame(root)\n",
    "frame_right.pack(side=tk. LEFT, padx=20)\n",
    "#input fields                                   \n",
    "label_cgpa = tk.Label(frame_right, text='Enter CGPA:')\n",
    "label_cgpa.pack()\n",
    "entry_cgpa = tk.Entry(frame_right)\n",
    "entry_cgpa.pack()\n",
    "#button to make predictions\n",
    "btn_predict = tk.Button(frame_right, text='Predict',command=predict_package)\n",
    "btn_predict.pack()\n",
    "label_predicted = tk.Label(frame_right,text='Predicted Package:')\n",
    "label_predicted.pack()\n",
    "root.mainloop()"
   ]
  },
  {
   "cell_type": "code",
   "execution_count": 68,
   "id": "6058bad8-94b0-4cc5-baa6-81e47b82948c",
   "metadata": {},
   "outputs": [],
   "source": [
    "#creating class of Model \n",
    "class Model:\n",
    "  def __init__(self):\n",
    "    self.m=None\n",
    "    self.b=None\n",
    "  #fit method to find values of slope and intercept\n",
    "  def fit(self,x_train,y_train):\n",
    "    # calculating m\n",
    "    num=0\n",
    "    den=0\n",
    "    for i in range(x_train.shape[0]):\n",
    "      num=num+((x_train[i]-x_train.mean())*(y_train[i]-y_train.mean()))\n",
    "      den=den+((x_train[i]-x_train.mean())*(x_train[i]-x_train.mean()))\n",
    "    self.m=num/den\n",
    "    self.b=y_train.mean()-(self.m*x_train.mean())\n",
    "    print(self.m)\n",
    "    print(self.b)\n",
    "   #predict method for prediction\n",
    "  def predict(self,x_test):\n",
    "    return self.m*x_test+self.b\n"
   ]
  },
  {
   "cell_type": "code",
   "execution_count": 70,
   "id": "78b6e40d-0c02-41f2-89ae-4ac088b25b71",
   "metadata": {},
   "outputs": [
    {
     "data": {
      "text/html": [
       "<div>\n",
       "<style scoped>\n",
       "    .dataframe tbody tr th:only-of-type {\n",
       "        vertical-align: middle;\n",
       "    }\n",
       "\n",
       "    .dataframe tbody tr th {\n",
       "        vertical-align: top;\n",
       "    }\n",
       "\n",
       "    .dataframe thead th {\n",
       "        text-align: right;\n",
       "    }\n",
       "</style>\n",
       "<table border=\"1\" class=\"dataframe\">\n",
       "  <thead>\n",
       "    <tr style=\"text-align: right;\">\n",
       "      <th></th>\n",
       "      <th>cgpa</th>\n",
       "      <th>package</th>\n",
       "    </tr>\n",
       "  </thead>\n",
       "  <tbody>\n",
       "    <tr>\n",
       "      <th>0</th>\n",
       "      <td>6.89</td>\n",
       "      <td>3.26</td>\n",
       "    </tr>\n",
       "    <tr>\n",
       "      <th>1</th>\n",
       "      <td>5.12</td>\n",
       "      <td>1.98</td>\n",
       "    </tr>\n",
       "    <tr>\n",
       "      <th>2</th>\n",
       "      <td>7.82</td>\n",
       "      <td>3.25</td>\n",
       "    </tr>\n",
       "    <tr>\n",
       "      <th>3</th>\n",
       "      <td>7.42</td>\n",
       "      <td>3.67</td>\n",
       "    </tr>\n",
       "    <tr>\n",
       "      <th>4</th>\n",
       "      <td>6.94</td>\n",
       "      <td>3.57</td>\n",
       "    </tr>\n",
       "  </tbody>\n",
       "</table>\n",
       "</div>"
      ],
      "text/plain": [
       "   cgpa  package\n",
       "0  6.89     3.26\n",
       "1  5.12     1.98\n",
       "2  7.82     3.25\n",
       "3  7.42     3.67\n",
       "4  6.94     3.57"
      ]
     },
     "execution_count": 70,
     "metadata": {},
     "output_type": "execute_result"
    }
   ],
   "source": [
    "#reading dataset\n",
    "import numpy as np\n",
    "import pandas as pd\n",
    "df=pd.read_csv('placement.csv')\n",
    "df.head()\n"
   ]
  },
  {
   "cell_type": "code",
   "execution_count": 72,
   "id": "1422c19f-07f2-4c03-9e9b-e92d4d384937",
   "metadata": {},
   "outputs": [],
   "source": [
    "x=df.iloc[:,0].values\n",
    "y=df.iloc[:,1].values"
   ]
  },
  {
   "cell_type": "code",
   "execution_count": 76,
   "id": "8931ac29-6000-4029-949d-64c49c7cd388",
   "metadata": {},
   "outputs": [
    {
     "data": {
      "text/plain": [
       "(160,)"
      ]
     },
     "execution_count": 76,
     "metadata": {},
     "output_type": "execute_result"
    }
   ],
   "source": [
    "#splitting train and test data\n",
    "from sklearn.model_selection import train_test_split\n",
    "x_train,x_test,y_train,y_test=train_test_split(x,y,test_size=0.2,random_state=2)\n",
    "x_train.shape"
   ]
  },
  {
   "cell_type": "code",
   "execution_count": 90,
   "id": "eb8ef7d9-f95f-4e42-b1fb-82248d8e0f3f",
   "metadata": {},
   "outputs": [
    {
     "name": "stdout",
     "output_type": "stream",
     "text": [
      "0.5579519734250721\n",
      "-0.8961119222429152\n",
      "3.891116009744203\n"
     ]
    }
   ],
   "source": [
    "#Making object of Model class\n",
    "lr=Model()\n",
    "#fitting the model using method of class\n",
    "lr.fit(x_train,y_train)\n",
    "x_train.shape[0]\n",
    "x_train[0]\n",
    "x_train.mean()\n",
    "x_test[0]\n",
    "#prediction using class method\n",
    "print(lr.predict(x_test[0]))"
   ]
  },
  {
   "cell_type": "code",
   "execution_count": 113,
   "id": "65593f81-b87f-41e4-b953-eaa10a400c63",
   "metadata": {},
   "outputs": [],
   "source": [
    "import tkinter as tk \n",
    "from tkinter import ttk \n",
    "from matplotlib.backends.backend_tkagg import FigureCanvasTkAgg \n",
    "#GUI code\n",
    "def predict_package():\n",
    "    try:\n",
    "        cgpa = float(entry_cgpa.get())\n",
    "        predicted_package = lr.predict(np.array([[cgpa]]))[0]\n",
    "        label_predicted.config(text=f'Predicted Package: {predicted_package[0]:.2f} LPA')\n",
    "    except ValueError:\n",
    "        label_predicted.config(text=\"Invalid input. Please enter a valid CGPA.\")\n",
    "#creating window\n",
    "root = tk.Tk()\n",
    "root.title('Placement Package Predictor by Didar Abbas Using class')\n",
    "root.geometry('300x200')\n",
    "frame_right = tk.Frame(root)\n",
    "frame_right.pack(padx=20, pady=20)\n",
    "#label and input field\n",
    "label_cgpa = tk.Label(frame_right, text='Enter CGPA:')\n",
    "label_cgpa.pack()\n",
    "entry_cgpa = tk.Entry(frame_right)\n",
    "entry_cgpa.pack()\n",
    "#button for making prediction and # Call predict_package here\n",
    "btn_predict = tk.Button(frame_right, text='Predict', command=predict_package)  \n",
    "btn_predict.pack()\n",
    "label_predicted = tk.Label(frame_right, text='Predicted Package:')\n",
    "label_predicted.pack()\n",
    "# Start the tkinter event loop\n",
    "root.mainloop()  \n",
    "\n"
   ]
  },
  {
   "cell_type": "code",
   "execution_count": 121,
   "id": "dec48468-63fe-4bf6-bcaa-5dede0d9e79d",
   "metadata": {},
   "outputs": [
    {
     "name": "stderr",
     "output_type": "stream",
     "text": [
      "C:\\Users\\Lenovo\\anaconda3\\Lib\\site-packages\\sklearn\\base.py:493: UserWarning: X does not have valid feature names, but LinearRegression was fitted with feature names\n",
      "  warnings.warn(\n",
      "C:\\Users\\Lenovo\\anaconda3\\Lib\\site-packages\\sklearn\\base.py:493: UserWarning: X does not have valid feature names, but LinearRegression was fitted with feature names\n",
      "  warnings.warn(\n",
      "C:\\Users\\Lenovo\\anaconda3\\Lib\\site-packages\\sklearn\\base.py:493: UserWarning: X does not have valid feature names, but LinearRegression was fitted with feature names\n",
      "  warnings.warn(\n",
      "C:\\Users\\Lenovo\\anaconda3\\Lib\\site-packages\\sklearn\\base.py:493: UserWarning: X does not have valid feature names, but LinearRegression was fitted with feature names\n",
      "  warnings.warn(\n"
     ]
    }
   ],
   "source": [
    "# prompt: in above code also add various regression metrics along with predicted package using gui\n",
    "import matplotlib.pyplot as plt\n",
    "import pandas as pd\n",
    "import numpy as np\n",
    "import tkinter as tk\n",
    "from tkinter import ttk\n",
    "from matplotlib.backends.backend_tkagg import FigureCanvasTkAgg\n",
    "from sklearn.model_selection import train_test_split\n",
    "from sklearn.linear_model import LinearRegression\n",
    "from sklearn.metrics import mean_squared_error, r2_score,mean_absolute_error, mean_absolute_percentage_error\n",
    "\n",
    "#reading placement dataset\n",
    "df = pd.read_csv('placement.csv')\n",
    "df.head()\n",
    "X = df.iloc[:,0:1] # input Column all rows0-1\n",
    "y = df.iloc[:, -1] # output Column\n",
    "#splitting training data and testing data\n",
    "X_train,X_test, y_train, y_test= train_test_split(X,y,test_size=0.2, random_state=2)\n",
    "#training the model\n",
    "lr= LinearRegression()\n",
    "lr.fit(X_train, y_train) # for training\n",
    "#making the prediction\n",
    "y_pred = lr.predict(X_test)\n",
    "# Calculate regression metrics\n",
    "mse = mean_squared_error(y_test, y_pred)\n",
    "r2 = r2_score(y_test, y_pred)\n",
    "# Calculate MAE, MAPE, and RMSE\n",
    "mae = mean_absolute_error(y_test, y_pred)\n",
    "mape = mean_absolute_percentage_error(y_test, y_pred)\n",
    "rmse = np.sqrt(mean_squared_error(y_test, y_pred))\n",
    "#GUI part\n",
    "def predict_package():\n",
    "    try:\n",
    "        cgpa = float(entry_cgpa.get()) # Get CGPA from the input field\n",
    "        predicted_package = lr.predict(np.array([[cgpa]])) [0] \n",
    "        #Predict the package\n",
    "        label_predicted.config(text=f'Predicted Package:{predicted_package:.2f} LPA')\n",
    "        #displaying various regression metrics\n",
    "        label_mse.config(text=f\"Mean Squared Error: {mse:.2f}\")\n",
    "        label_r2.config(text=f\"R-squared: {r2:.2f}\")\n",
    "        label_mae.config(text=f\"Mean Absolute Error:{mae:.2f}\")\n",
    "        label_mape.config(text=f\"Mean Absolute Percentage Error:{mape:.2f}\")\n",
    "        label_rmse.config(text=f\"Root Mean Squared Error:{rmse:.2f}\")\n",
    "    except ValueError:\n",
    "        label_predicted.config(text=\"Invalid input. Pleaseenter a valid CGPA.\")\n",
    "#Setting GUI\n",
    "root = tk.Tk()\n",
    "root.title('Placement Package Predictor with regression metrics by Didar Abbas')\n",
    "root.geometry ('300x300')\n",
    "frame_right =tk.Frame(root)\n",
    "frame_right.pack( padx=20,pady=20)\n",
    "#input fields                                   \n",
    "label_cgpa = tk.Label(frame_right, text='Enter CGPA:')\n",
    "label_cgpa.pack()\n",
    "entry_cgpa = tk.Entry(frame_right)\n",
    "entry_cgpa.pack()\n",
    "#button to make predictions\n",
    "btn_predict = tk.Button(frame_right, text='Predict',command=predict_package)\n",
    "btn_predict.pack()\n",
    "label_predicted = tk.Label(frame_right,text='Predicted Package:')\n",
    "label_predicted.pack()\n",
    "#labels for various regression metrics\n",
    "label_mse = tk.Label(frame_right, text=\"Mean Squared Error:\")\n",
    "label_mse.pack()\n",
    "label_r2 = tk.Label(frame_right, text=\"R-squared:\")\n",
    "label_r2.pack()\n",
    "label_mae = tk.Label(frame_right, text=f\"MAE: {mae:.2f}\")\n",
    "label_mae.pack()\n",
    "label_mape = tk.Label(frame_right, text=f\"MAPE: {mape:.2f}\")\n",
    "label_mape.pack()\n",
    "label_rmse = tk.Label(frame_right, text=f\"RMSE: {rmse:.2f}\")\n",
    "label_rmse.pack()\n",
    "root.mainloop()"
   ]
  },
  {
   "cell_type": "code",
   "execution_count": null,
   "id": "7483adf1-a13a-428a-be7f-847f4135a753",
   "metadata": {},
   "outputs": [],
   "source": []
  }
 ],
 "metadata": {
  "kernelspec": {
   "display_name": "Python 3 (ipykernel)",
   "language": "python",
   "name": "python3"
  },
  "language_info": {
   "codemirror_mode": {
    "name": "ipython",
    "version": 3
   },
   "file_extension": ".py",
   "mimetype": "text/x-python",
   "name": "python",
   "nbconvert_exporter": "python",
   "pygments_lexer": "ipython3",
   "version": "3.12.4"
  }
 },
 "nbformat": 4,
 "nbformat_minor": 5
}
