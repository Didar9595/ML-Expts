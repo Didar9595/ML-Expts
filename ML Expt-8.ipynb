{
 "cells": [
  {
   "cell_type": "code",
   "execution_count": 1,
   "id": "0ecc9265-6af8-4c41-afb9-c7abcbe463d1",
   "metadata": {},
   "outputs": [
    {
     "data": {
      "text/html": [
       "<div>\n",
       "<style scoped>\n",
       "    .dataframe tbody tr th:only-of-type {\n",
       "        vertical-align: middle;\n",
       "    }\n",
       "\n",
       "    .dataframe tbody tr th {\n",
       "        vertical-align: top;\n",
       "    }\n",
       "\n",
       "    .dataframe thead th {\n",
       "        text-align: right;\n",
       "    }\n",
       "</style>\n",
       "<table border=\"1\" class=\"dataframe\">\n",
       "  <thead>\n",
       "    <tr style=\"text-align: right;\">\n",
       "      <th></th>\n",
       "      <th>CustomerID</th>\n",
       "      <th>Gender</th>\n",
       "      <th>Age</th>\n",
       "      <th>Annual Income (k$)</th>\n",
       "      <th>Spending Score (1-100)</th>\n",
       "    </tr>\n",
       "  </thead>\n",
       "  <tbody>\n",
       "    <tr>\n",
       "      <th>0</th>\n",
       "      <td>1</td>\n",
       "      <td>Male</td>\n",
       "      <td>19</td>\n",
       "      <td>15</td>\n",
       "      <td>39</td>\n",
       "    </tr>\n",
       "    <tr>\n",
       "      <th>1</th>\n",
       "      <td>2</td>\n",
       "      <td>Male</td>\n",
       "      <td>21</td>\n",
       "      <td>15</td>\n",
       "      <td>81</td>\n",
       "    </tr>\n",
       "    <tr>\n",
       "      <th>2</th>\n",
       "      <td>3</td>\n",
       "      <td>Female</td>\n",
       "      <td>20</td>\n",
       "      <td>16</td>\n",
       "      <td>6</td>\n",
       "    </tr>\n",
       "    <tr>\n",
       "      <th>3</th>\n",
       "      <td>4</td>\n",
       "      <td>Female</td>\n",
       "      <td>23</td>\n",
       "      <td>16</td>\n",
       "      <td>77</td>\n",
       "    </tr>\n",
       "    <tr>\n",
       "      <th>4</th>\n",
       "      <td>5</td>\n",
       "      <td>Female</td>\n",
       "      <td>31</td>\n",
       "      <td>17</td>\n",
       "      <td>40</td>\n",
       "    </tr>\n",
       "  </tbody>\n",
       "</table>\n",
       "</div>"
      ],
      "text/plain": [
       "   CustomerID  Gender  Age  Annual Income (k$)  Spending Score (1-100)\n",
       "0           1    Male   19                  15                      39\n",
       "1           2    Male   21                  15                      81\n",
       "2           3  Female   20                  16                       6\n",
       "3           4  Female   23                  16                      77\n",
       "4           5  Female   31                  17                      40"
      ]
     },
     "execution_count": 1,
     "metadata": {},
     "output_type": "execute_result"
    }
   ],
   "source": [
    "# customer segmentation using k means clustering\n",
    "import pandas as pd\n",
    "import numpy as np\n",
    "import matplotlib.pyplot as plt\n",
    "import seaborn as sns\n",
    "import warnings\n",
    "warnings.filterwarnings('ignore')\n",
    "df= pd.read_csv('Mall_Customers.csv')\n",
    "df.head()\n"
   ]
  },
  {
   "cell_type": "code",
   "execution_count": 3,
   "id": "901e1d32-ddfa-4191-a30f-4b7f36e61dca",
   "metadata": {},
   "outputs": [
    {
     "name": "stdout",
     "output_type": "stream",
     "text": [
      "<class 'pandas.core.frame.DataFrame'>\n",
      "RangeIndex: 200 entries, 0 to 199\n",
      "Data columns (total 5 columns):\n",
      " #   Column                  Non-Null Count  Dtype \n",
      "---  ------                  --------------  ----- \n",
      " 0   CustomerID              200 non-null    int64 \n",
      " 1   Gender                  200 non-null    object\n",
      " 2   Age                     200 non-null    int64 \n",
      " 3   Annual Income (k$)      200 non-null    int64 \n",
      " 4   Spending Score (1-100)  200 non-null    int64 \n",
      "dtypes: int64(4), object(1)\n",
      "memory usage: 7.9+ KB\n"
     ]
    }
   ],
   "source": [
    "df.info()"
   ]
  },
  {
   "cell_type": "code",
   "execution_count": 5,
   "id": "7a5f0ea9-14b8-4cc4-97f5-1a4bfed66129",
   "metadata": {},
   "outputs": [
    {
     "data": {
      "text/html": [
       "<div>\n",
       "<style scoped>\n",
       "    .dataframe tbody tr th:only-of-type {\n",
       "        vertical-align: middle;\n",
       "    }\n",
       "\n",
       "    .dataframe tbody tr th {\n",
       "        vertical-align: top;\n",
       "    }\n",
       "\n",
       "    .dataframe thead th {\n",
       "        text-align: right;\n",
       "    }\n",
       "</style>\n",
       "<table border=\"1\" class=\"dataframe\">\n",
       "  <thead>\n",
       "    <tr style=\"text-align: right;\">\n",
       "      <th></th>\n",
       "      <th>Annual Income (k$)</th>\n",
       "      <th>Spending Score (1-100)</th>\n",
       "    </tr>\n",
       "  </thead>\n",
       "  <tbody>\n",
       "    <tr>\n",
       "      <th>0</th>\n",
       "      <td>15</td>\n",
       "      <td>39</td>\n",
       "    </tr>\n",
       "    <tr>\n",
       "      <th>1</th>\n",
       "      <td>15</td>\n",
       "      <td>81</td>\n",
       "    </tr>\n",
       "    <tr>\n",
       "      <th>2</th>\n",
       "      <td>16</td>\n",
       "      <td>6</td>\n",
       "    </tr>\n",
       "    <tr>\n",
       "      <th>3</th>\n",
       "      <td>16</td>\n",
       "      <td>77</td>\n",
       "    </tr>\n",
       "    <tr>\n",
       "      <th>4</th>\n",
       "      <td>17</td>\n",
       "      <td>40</td>\n",
       "    </tr>\n",
       "  </tbody>\n",
       "</table>\n",
       "</div>"
      ],
      "text/plain": [
       "   Annual Income (k$)  Spending Score (1-100)\n",
       "0                  15                      39\n",
       "1                  15                      81\n",
       "2                  16                       6\n",
       "3                  16                      77\n",
       "4                  17                      40"
      ]
     },
     "execution_count": 5,
     "metadata": {},
     "output_type": "execute_result"
    }
   ],
   "source": [
    "x= df.iloc[:,[3,4]]\n",
    "x.head()"
   ]
  },
  {
   "cell_type": "code",
   "execution_count": 9,
   "id": "71ac737b-a115-427d-9111-1e0a2decf6fe",
   "metadata": {},
   "outputs": [
    {
     "data": {
      "text/plain": [
       "[269981.28,\n",
       " 183653.3289473684,\n",
       " 106348.37306211119,\n",
       " 73880.64496247195,\n",
       " 44448.45544793371,\n",
       " 40825.16946386946,\n",
       " 33642.579220779226,\n",
       " 26686.83778518778,\n",
       " 24766.471609793443,\n",
       " 23103.122085983916]"
      ]
     },
     "execution_count": 9,
     "metadata": {},
     "output_type": "execute_result"
    }
   ],
   "source": [
    "#model training\n",
    "from sklearn.cluster import KMeans\n",
    "wcss=[]\n",
    "for i in range(1,11):\n",
    "    kmeans= KMeans(n_clusters=i, random_state=42)\n",
    "    kmeans.fit(x)\n",
    "    wcss.append(kmeans.inertia_)\n",
    "wcss"
   ]
  },
  {
   "cell_type": "code",
   "execution_count": 11,
   "id": "34e101b6-a57a-475a-8d10-8d282e65578b",
   "metadata": {},
   "outputs": [
    {
     "data": {
      "image/png": "[encoded data removed]",
      "text/plain": [
       "<Figure size 640x480 with 1 Axes>"
      ]
     },
     "metadata": {},
     "output_type": "display_data"
    }
   ],
   "source": [
    "#creating the plot\n",
    "plt.plot(range(1,11),wcss)\n",
    "plt.title('the elbow method')\n",
    "plt.xlabel('number of clusters')\n",
    "plt.ylabel('wcss')\n",
    "plt.show()\n"
   ]
  },
  {
   "cell_type": "code",
   "execution_count": 15,
   "id": "8bceeeaa-5435-408f-8179-bd8960734ccf",
   "metadata": {},
   "outputs": [
    {
     "name": "stdout",
     "output_type": "stream",
     "text": [
      "This customer belongs to cluster no: 3\n"
     ]
    }
   ],
   "source": [
    "import pandas as pd\n",
    "from tkinter import *\n",
    "import matplotlib.pyplot as plt\n",
    "from matplotlib.backends.backend_tkagg import FigureCanvasTkAgg\n",
    "from sklearn.cluster import KMeans\n",
    "\n",
    "# Preparing the model\n",
    "x = df[['Annual Income (k$)', 'Spending Score (1-100)']]\n",
    "k_mean = KMeans(n_clusters=5, random_state=42)\n",
    "y_mean = k_mean.fit_predict(x)\n",
    "\n",
    "# Function to show the entry fields and predict the cluster\n",
    "def show_entry_fields():\n",
    "    p1 = float(e1.get())\n",
    "    p2 = float(e2.get())\n",
    "    result = k_mean.predict([[p1, p2]])\n",
    "    print(\"This customer belongs to cluster no:\", result[0])\n",
    "    \n",
    "    cluster_info = {\n",
    "        0: \"Customer with medium annual income & medium spending score\",\n",
    "        1: \"Customer with high annual income & low spending score\",\n",
    "        2: \"Customer with low annual income & low spending score\",\n",
    "        3: \"Customer with low annual income & high spending score\",\n",
    "        4: \"Customer with high annual income & high spending score\"\n",
    "    }\n",
    "    \n",
    "    # Clear previous result labels if any\n",
    "    for widget in master.grid_slaves():\n",
    "        if int(widget.grid_info()[\"row\"]) >= 4:  # Assuming info labels start from row 4\n",
    "            widget.destroy()\n",
    "    \n",
    "    Label(master, text=cluster_info[result[0]]).grid(row=4)\n",
    "\n",
    "# Create the main application window\n",
    "master = Tk()\n",
    "master.title(\"Customer Segmentation using Machine Learning by Didar Abbas-211P036\")\n",
    "Label(master, text=\"Didar's code for Customer Segmentation using Machine Learning\", bg=\"Yellow\", fg=\"black\").grid(row=0, columnspan=2)\n",
    "\n",
    "# Input labels and entries\n",
    "Label(master, text=\"Annual Income (k$)\").grid(row=1)\n",
    "Label(master, text=\"Spending Score (1-100)\").grid(row=2)\n",
    "e1 = Entry(master)\n",
    "e2 = Entry(master)\n",
    "e1.grid(row=1, column=1)\n",
    "e2.grid(row=2, column=1)\n",
    "Button(master, text='Predict', command=show_entry_fields).grid(row=3)\n",
    "\n",
    "# Plotting the clusters\n",
    "figure = plt.Figure(figsize=(5, 4), dpi=100)\n",
    "ax = figure.add_subplot(111)\n",
    "for i in range(5):  # Since n_clusters=5\n",
    "    ax.scatter(x.iloc[y_mean == i, 0], x.iloc[y_mean == i, 1], s=100, label=f'Cluster {i}')\n",
    "ax.set_xlabel('Annual Income (k$)')\n",
    "ax.set_ylabel('Spending Score (1-100)')\n",
    "ax.set_title('Annual Income vs Spending Score')\n",
    "ax.legend()\n",
    "\n",
    "# Adding the plot to the Tkinter window\n",
    "scatter = FigureCanvasTkAgg(figure, master)\n",
    "scatter.get_tk_widget().grid(row=5, columnspan=2)\n",
    "\n",
    "# Start the Tkinter main loop\n",
    "master.mainloop()\n"
   ]
  },
  {
   "cell_type": "code",
   "execution_count": null,
   "id": "0b39d38b-e555-4875-b689-7e9271b5e2e1",
   "metadata": {},
   "outputs": [
    {
     "name": "stdout",
     "output_type": "stream",
     "text": [
      "This student belongs to cluster no: 4\n",
      "This student belongs to cluster no: 4\n",
      "This student belongs to cluster no: 4\n",
      "This student belongs to cluster no: 1\n"
     ]
    }
   ],
   "source": [
    "import pandas as pd\n",
    "from tkinter import *\n",
    "import matplotlib.pyplot as plt\n",
    "from matplotlib.backends.backend_tkagg import FigureCanvasTkAgg\n",
    "from sklearn.cluster import KMeans\n",
    "\n",
    "# Load and prepare the data for clustering\n",
    "df = pd.read_csv(\"placement.csv\")\n",
    "x = df[['cgpa', 'package']]\n",
    "\n",
    "# Initialize KMeans with the desired number of clusters\n",
    "k_mean = KMeans(n_clusters=5, random_state=42)\n",
    "y_mean = k_mean.fit_predict(x)\n",
    "\n",
    "# Function to show the entry fields and predict the cluster\n",
    "def show_entry_fields():\n",
    "    p1 = float(e1.get())\n",
    "    p2 = float(e2.get())\n",
    "    result = k_mean.predict([[p1, p2]])\n",
    "    print(\"This student belongs to cluster no:\", result[0])\n",
    "    \n",
    "    cluster_info = {\n",
    "        0: \"Students with medium CGPA and medium package\",\n",
    "        1: \"Students with high CGPA and low package\",\n",
    "        2: \"Students with low CGPA and low package\",\n",
    "        3: \"Students with low CGPA and high package\",\n",
    "        4: \"Students with high CGPA and high package\"\n",
    "    }\n",
    "    \n",
    "    # Clear previous labels if any\n",
    "    for widget in master.grid_slaves():\n",
    "        if int(widget.grid_info()[\"row\"]) >= 4:  # Assuming info labels start from row 4\n",
    "            widget.destroy()\n",
    "    \n",
    "    Label(master, text=cluster_info[result[0]]).grid(row=4)\n",
    "\n",
    "# Create the main application window\n",
    "master = Tk()\n",
    "master.title(\"Student Placement Segmentation by Didar Abbas 211P036\")\n",
    "\n",
    "# Title label\n",
    "Label(master, text=\"Student Placement Segmentation using Machine Learning\", bg=\"Yellow\", fg=\"black\").grid(row=0, columnspan=2)\n",
    "\n",
    "# Input labels and entries\n",
    "Label(master, text=\"CGPA\").grid(row=1)\n",
    "Label(master, text=\"Package\").grid(row=2)\n",
    "e1 = Entry(master)\n",
    "e2 = Entry(master)\n",
    "e1.grid(row=1, column=1)\n",
    "e2.grid(row=2, column=1)\n",
    "\n",
    "# Predict button\n",
    "Button(master, text='Predict', command=show_entry_fields).grid(row=3)\n",
    "\n",
    "# Plotting\n",
    "figure = plt.Figure(figsize=(5, 4), dpi=100)\n",
    "ax = figure.add_subplot(111)\n",
    "\n",
    "# Sample scatter plot for clusters\n",
    "for i in range(5):  # Since n_clusters=5\n",
    "    ax.scatter(x.iloc[y_mean == i, 0], x.iloc[y_mean == i, 1], s=100, label=f'Cluster {i}')\n",
    "\n",
    "# Set labels and title\n",
    "ax.set_xlabel('CGPA')\n",
    "ax.set_ylabel('Package')\n",
    "ax.set_title('CGPA vs Package')\n",
    "ax.legend()\n",
    "\n",
    "# Displaying figure in Tkinter\n",
    "scatter = FigureCanvasTkAgg(figure, master)\n",
    "scatter.get_tk_widget().grid(row=5, columnspan=2)\n",
    "\n",
    "# Run the application\n",
    "master.mainloop()\n"
   ]
  },
  {
   "cell_type": "code",
   "execution_count": null,
   "id": "12165bb2-13fc-42e9-b66f-11a38d7225bd",
   "metadata": {},
   "outputs": [],
   "source": []
  }
 ],
 "metadata": {
  "kernelspec": {
   "display_name": "Python 3 (ipykernel)",
   "language": "python",
   "name": "python3"
  },
  "language_info": {
   "codemirror_mode": {
    "name": "ipython",
    "version": 3
   },
   "file_extension": ".py",
   "mimetype": "text/x-python",
   "name": "python",
   "nbconvert_exporter": "python",
   "pygments_lexer": "ipython3",
   "version": "3.12.4"
  }
 },
 "nbformat": 4,
 "nbformat_minor": 5
}
